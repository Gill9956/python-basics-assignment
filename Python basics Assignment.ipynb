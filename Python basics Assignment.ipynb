{
 "cells": [
  {
   "cell_type": "markdown",
   "metadata": {},
   "source": [
    " #                                  PYTHON BASICS ASSIGNMENT"
   ]
  },
  {
   "cell_type": "markdown",
   "metadata": {},
   "source": [
    "### THEORY QUESTIONS"
   ]
  },
  {
   "cell_type": "markdown",
   "metadata": {},
   "source": [
    "#### QUESTION 1: What is Python, and why is it popular?\n",
    "\n",
    "#### ANSWER 1:\n",
    " Python is a high-level, interpreted, and general-purpose programming language. It is known for its simplicity, readability, and versatility, making it easy for beginners to learn and for professionals to develop complex applications. Python supports multiple programming paradigms, including procedural, object-oriented, and functional programming. It is used in various domains such as web development, data analysis, machine learning, artificial intelligence, automation, and more.\n",
    " \n",
    " It is popular because of its simple syntax, large community, Versatility and cross-plateform availableity.\n",
    " \n",
    "----------------------------------------------------------------------------------------------------------------------------------------"
   ]
  },
  {
   "cell_type": "markdown",
   "metadata": {},
   "source": [
    "#### QUESTION 2: What is an interpreter in Python?\n",
    "\n",
    "#### ANSWER 2:\n",
    " An interpreter in Python is a program that reads and executes the Python code line-by-line. Unlike compiled languages, which convert the entire source code to machine code before execution, an interpreter translates code into machine code at runtime, executing each line as it is read. \n",
    " The interpreter in python is highly interactive and has no compilation step.\n",
    "\n",
    " \n",
    "-----------------------------------------------------------------------------------------------------------------------------------------\n",
    "\n",
    "\n",
    "\n",
    "\n",
    "\n",
    "\n",
    "\n"
   ]
  },
  {
   "cell_type": "markdown",
   "metadata": {},
   "source": [
    "#### QUESTION 3: What are pre-defined keywords in Python?\n",
    "\n",
    "#### ANSWER 3:\n",
    " Pre-defined keywords (or reserved keywords) in Python are special words that have a predefined meaning in the Python language. These keywords cannot be used as identifiers (variable names, function names, etc.). They are part of Python's syntax.\n",
    " Examples: if, else, for, while, def, import and many more \n",
    "\n",
    "---------------------------------------------------------\n"
   ]
  },
  {
   "cell_type": "markdown",
   "metadata": {},
   "source": [
    "#### Question 4: Can keywords be used as variable names?\n",
    "\n",
    "#### ANSWER 4:\n",
    " No, keywords cannot be used as variable names in Python. These words have special meanings in Python’s syntax, and using them as variable names would create conflicts and errors. For example, if, class, or def cannot be used as variable names.\n",
    "\n",
    "--------------------------------------------------------------"
   ]
  },
  {
   "cell_type": "markdown",
   "metadata": {},
   "source": [
    "#### QUESTION 5: What is mutability in Python?\n",
    "\n",
    "#### ANSWER 5:\n",
    " Mutability refers to the ability of an object to be changed after it has been created. In Python, objects can be classified into mutable and immutable types:\n",
    "\n",
    " Mutable objects: Objects whose state or contents can be changed after creation (e.g., lists, dictionaries, sets).\n",
    "\n",
    " Immutable objects: Objects whose state cannot be changed once created (e.g., strings, tuples, integers).\n",
    "\n",
    "---------------------------------------------------------"
   ]
  },
  {
   "cell_type": "markdown",
   "metadata": {},
   "source": [
    "#### QUESTION 6: Why are lists mutable, but tuples are immutable?\n",
    "\n",
    "#### ANSWER 6:\n",
    " Lists are mutable because they are designed to be changed. You can add, remove, or modify elements in a list.\n",
    "\n",
    " Tuples, on the other hand, are immutable because they are designed to be constant after creation. Once you create a tuple, you cannot modify its elements, add new elements, or remove any elements. This is done to ensure data integrity and is useful for scenarios where the data should remain unchanged.\n",
    "\n",
    "__________________________________________________________________________"
   ]
  },
  {
   "cell_type": "markdown",
   "metadata": {},
   "source": [
    "#### QUESTION 7: What is the difference between “==” and “is” operators in Python?\n",
    "\n",
    "#### ANSWER 7:\n",
    " ==: This is the equality operator. It checks if the values of two objects are the same, regardless of whether they are the same object in memory\n",
    "\n",
    " is: This is the identity operator. It checks if two objects refer to the same location in memory (i.e., if they are the exact same object).\n",
    "\n",
    "-----------------------------------------------------------------------------"
   ]
  },
  {
   "cell_type": "markdown",
   "metadata": {},
   "source": [
    "#### QUESTION 8: What are logical operators in Python?\n",
    "\n",
    "#### ANSWER 8:\n",
    " Logical operators in Python are used to combine conditional statements. The main logical operators are:\n",
    "\n",
    " and: Returns True if both conditions are true.\n",
    "\n",
    " or: Returns True if at least one condition is true.\n",
    "\n",
    " not: Reverses the logical state of its operand.\n",
    "\n",
    "---------------------------------------------------------------------------------------------------"
   ]
  },
  {
   "cell_type": "markdown",
   "metadata": {},
   "source": [
    "#### QUESTION 9: What is type casting in Python?\n",
    "\n",
    "#### ANSWER 9:\n",
    " Type casting in Python refers to the process of converting one data type into another. Python allows both implicit and explicit type casting.\n",
    "\n",
    "--------------------------------------------------------"
   ]
  },
  {
   "cell_type": "markdown",
   "metadata": {},
   "source": [
    "#### QUESTION 10: What is the difference between implicit and explicit type casting?\n",
    "\n",
    "#### ANSWER 10:\n",
    " Implicit casting (automatic): Python automatically converts a smaller data type to a larger one (e.g., from an int to a float).\n",
    "\n",
    " Explicit casting (manual): You can convert a data type to another using the int(), float(), str(), etc.\n",
    "\n",
    "-----------------------------------------------------------"
   ]
  },
  {
   "cell_type": "markdown",
   "metadata": {},
   "source": [
    "#### QUESTION 11: What is the purpose of conditional statements in Python?\n",
    "\n",
    "#### QUESTION 11:\n",
    " Conditional statements allow you to execute certain blocks of code based on whether a given condition (or set of conditions) is True or False. This allows for decision-making in your programs\n",
    "\n",
    "----------------------------------------------------------------------"
   ]
  },
  {
   "cell_type": "markdown",
   "metadata": {},
   "source": [
    "#### QUESTION 12: How does the elif statement work?\n",
    "\n",
    "#### ANSWER 12:\n",
    " The elif (short for \"else if\") statement is used when you need to check multiple conditions in sequence. If the first condition is False, it checks the next one, and so on.\n",
    "\n",
    "--------------------------------------------"
   ]
  },
  {
   "cell_type": "markdown",
   "metadata": {},
   "source": [
    "#### QUESTION 13: What is the difference between for and while loops?\n",
    "\n",
    "#### ANSWER 13:\n",
    " for loop: Used when you know how many times you want to iterate (e.g., over a range, list, or other iterable). It iterates over the elements of a sequence.\n",
    " EXAMPLE:\n",
    " for i in range(5):\n",
    "    print(i)\n",
    "\n",
    " while loop: Used when the number of iterations is not known in advance and you want to keep looping as long as a condition is True.\n",
    " EXAMPLE: \n",
    " i = 0\n",
    " while i < 5:\n",
    "    print(i)\n",
    "    i += 1\n",
    "\n",
    "-----------------------------------------------------------\n"
   ]
  },
  {
   "cell_type": "markdown",
   "metadata": {},
   "source": [
    "#### QUESTION 14: Describe a scenario where a while loop is more suitable than a for loop.\n",
    "\n",
    "#### ANSWER 14:\n",
    " A while loop is more suitable when you don’t know beforehand how many iterations are required and you want the loop to continue until a specific condition is met.\n",
    "\n",
    " Example: You want to keep prompting the user for input until they enter a valid number:\n"
   ]
  },
  {
   "cell_type": "code",
   "execution_count": null,
   "metadata": {},
   "outputs": [],
   "source": [
    " while True:\n",
    "    user_input = input(\"Enter a number: \")\n",
    "    if user_input.isdigit():\n",
    "        print(f\"You entered the number {user_input}.\")\n",
    "        break\n",
    "    else:\n",
    "        print(\"That's not a valid number. Please try again.\")"
   ]
  },
  {
   "cell_type": "markdown",
   "metadata": {},
   "source": [
    "#### \n",
    "In this case, the loop continues until the user enters a valid number, and you don’t know how many attempts it will take.\n",
    "\n",
    "---------------------------------------------------------"
   ]
  },
  {
   "cell_type": "markdown",
   "metadata": {},
   "source": [
    "## PRACTICLE QUESTIONS"
   ]
  },
  {
   "cell_type": "code",
   "execution_count": 1,
   "metadata": {},
   "outputs": [
    {
     "name": "stdout",
     "output_type": "stream",
     "text": [
      "Hello, World!\n"
     ]
    }
   ],
   "source": [
    "# QUESTION 1: Write a Python program to print \"Hello, World!\"\n",
    "\n",
    "#ANSWER1: \n",
    "print(\"Hello, World!\")\n",
    " "
   ]
  },
  {
   "cell_type": "code",
   "execution_count": 3,
   "metadata": {},
   "outputs": [
    {
     "name": "stdout",
     "output_type": "stream",
     "text": [
      "My name is Sunny and my age is 24\n"
     ]
    }
   ],
   "source": [
    "# QUESTION 2: Write a Python program that displays your name and age\n",
    "\n",
    "# ANSWER 2:\n",
    "\n",
    "name=\"Sunny\"\n",
    "age= 24\n",
    "print(f\"My name is {name} and my age is {age}\")\n"
   ]
  },
  {
   "cell_type": "code",
   "execution_count": 4,
   "metadata": {},
   "outputs": [
    {
     "name": "stdout",
     "output_type": "stream",
     "text": [
      "python keywords: ['False', 'None', 'True', 'and', 'as', 'assert', 'async', 'await', 'break', 'class', 'continue', 'def', 'del', 'elif', 'else', 'except', 'finally', 'for', 'from', 'global', 'if', 'import', 'in', 'is', 'lambda', 'nonlocal', 'not', 'or', 'pass', 'raise', 'return', 'try', 'while', 'with', 'yield']\n"
     ]
    }
   ],
   "source": [
    "# QUESTION 3: Write code to print all the pre-defined keywords in Python using the keyword library\n",
    "\n",
    "#ANSWER 3:\n",
    "\n",
    "import keyword\n",
    "print(\"python keywords:\",keyword.kwlist)"
   ]
  },
  {
   "cell_type": "code",
   "execution_count": 5,
   "metadata": {},
   "outputs": [
    {
     "name": "stdout",
     "output_type": "stream",
     "text": [
      "The entered word is a python keyword\n"
     ]
    }
   ],
   "source": [
    "# QUESTION 4: Write a program that checks if a given word is a Python keyword\n",
    "\n",
    "# ANSWER 4:\n",
    "\n",
    "import keyword\n",
    "\n",
    "word=input(\"enter any word\")\n",
    "if keyword.iskeyword(word):\n",
    "    print(\"The entered word is a python keyword\")\n",
    "else:\n",
    "    print(\"entered word is not a python keyword\")\n",
    "    \n",
    "\n"
   ]
  },
  {
   "cell_type": "code",
   "execution_count": 7,
   "metadata": {},
   "outputs": [
    {
     "name": "stdout",
     "output_type": "stream",
     "text": [
      "orginal : [1, 2, 3, 4, 5]\n",
      "mutated: [1, 200, 3, 4, 5]\n",
      "orginal: (1, 2, 3, 4, 5)\n",
      "Error 'tuple' object does not support item assignment\n"
     ]
    }
   ],
   "source": [
    "# QUESTION 5: Create a list and tuple in Python, and demonstrate how attempting to change an element works differently for each\n",
    "\n",
    "#ANSWER 5: \n",
    "\n",
    "m_list=[1,2,3,4,5]\n",
    "print(\"orginal :\",m_list)\n",
    "m_list[1]=200\n",
    "print(\"mutated:\",m_list)\n",
    "\n",
    "m_tuple=(1,2,3,4,5)\n",
    "print(\"orginal:\", m_tuple)\n",
    "try:\n",
    "    m_tuple[2]=200 ###this will give error\n",
    "except TypeError as e:\n",
    "    print(\"Error\",e)"
   ]
  },
  {
   "cell_type": "code",
   "execution_count": 8,
   "metadata": {},
   "outputs": [
    {
     "name": "stdout",
     "output_type": "stream",
     "text": [
      "Before modification:\n",
      "Immutable: 10\n",
      "Mutable: [1, 2, 3]\n",
      "\n",
      "After modification:\n",
      "Immutable: 100\n",
      "Mutable: [99, 2, 3]\n"
     ]
    }
   ],
   "source": [
    "# QUESTION 6: Write a function to demonstrate the behavior of mutable and immutable arguments\n",
    "\n",
    "# ANSWER 6: \n",
    "\n",
    "def mutable_immutable_demo(immutable_arg, mutable_arg):\n",
    "    print(\"Before modification:\")\n",
    "    print(\"Immutable:\", immutable_arg)\n",
    "    print(\"Mutable:\", mutable_arg)\n",
    "\n",
    "    # Immutable argument cannot be changed\n",
    "    immutable_arg = 100\n",
    "    # Mutable argument can be changed\n",
    "    mutable_arg[0] = 99\n",
    "    \n",
    "    print(\"\\nAfter modification:\")\n",
    "    print(\"Immutable:\", immutable_arg)\n",
    "    print(\"Mutable:\", mutable_arg)\n",
    "\n",
    "# Example usage\n",
    "immutable_value = 10\n",
    "mutable_value = [1, 2, 3]\n",
    "mutable_immutable_demo(immutable_value, mutable_value)"
   ]
  },
  {
   "cell_type": "code",
   "execution_count": 9,
   "metadata": {},
   "outputs": [
    {
     "name": "stdout",
     "output_type": "stream",
     "text": [
      "Sum: 3.0\n",
      "Difference: -1.0\n",
      "Product: 2.0\n",
      "Division: 0.5\n"
     ]
    }
   ],
   "source": [
    "# QUESTION 7: Write a program that performs basic arithmetic operations on two user-input numbers\n",
    "\n",
    "# ANSWER 7: \n",
    "num1 = float(input(\"Enter first number: \"))\n",
    "num2 = float(input(\"Enter second number: \"))\n",
    "\n",
    "print(\"Sum:\", num1 + num2)\n",
    "print(\"Difference:\", num1 - num2)\n",
    "print(\"Product:\", num1 * num2)\n",
    "print(\"Division:\", num1 / num2 if num2 != 0 else \"Cannot divide by zero\")\n"
   ]
  },
  {
   "cell_type": "code",
   "execution_count": 10,
   "metadata": {},
   "outputs": [
    {
     "name": "stdout",
     "output_type": "stream",
     "text": [
      "a and b: False\n",
      "a or b: True\n",
      "not a: False\n"
     ]
    }
   ],
   "source": [
    "# QUESTION 8: Write a program to demonstrate the use of logical operators\n",
    "\n",
    "# ANSWER 8: \n",
    "\n",
    "a = True\n",
    "b = False\n",
    "\n",
    "print(\"a and b:\", a and b)\n",
    "print(\"a or b:\", a or b)\n",
    "print(\"not a:\", not a)\n",
    "\n"
   ]
  },
  {
   "cell_type": "code",
   "execution_count": 11,
   "metadata": {},
   "outputs": [
    {
     "name": "stdout",
     "output_type": "stream",
     "text": [
      "Converted to Integer: None\n",
      "Converted to Float: None\n",
      "Converted to Boolean: True\n"
     ]
    }
   ],
   "source": [
    "# QUESTION 9:  Write a Python program to convert user input from string to integer, float, and boolean types\n",
    "\n",
    "#ANSWER9: \n",
    "\n",
    "user_input = input(\"Enter a value: \")\n",
    "\n",
    "# Convert to integer\n",
    "int_value = int(user_input) if user_input.isdigit() else None\n",
    "\n",
    "# Convert to float\n",
    "float_value = float(user_input) if user_input.replace('.', '', 1).isdigit() else None\n",
    "\n",
    "# Convert to boolean\n",
    "bool_value = bool(user_input)\n",
    "\n",
    "print(\"Converted to Integer:\", int_value)\n",
    "print(\"Converted to Float:\", float_value)\n",
    "print(\"Converted to Boolean:\", bool_value)\n"
   ]
  },
  {
   "cell_type": "code",
   "execution_count": 14,
   "metadata": {},
   "outputs": [
    {
     "name": "stdout",
     "output_type": "stream",
     "text": [
      "Original list: [1, '2', 3.5, 'True']\n",
      "Integer value from string: 2\n",
      "Boolean value from string: True\n"
     ]
    }
   ],
   "source": [
    "# QUESTION 10: Write code to demonstrate type casting with list elements\n",
    "\n",
    "# ANSWER 10: \n",
    "\n",
    "my_list = [1, \"2\", 3.5, \"True\"]\n",
    "\n",
    "# Casting string to integer\n",
    "int_value = int(my_list[1])\n",
    "\n",
    "# Casting string to boolean\n",
    "bool_value = bool(my_list[3])\n",
    "\n",
    "print(\"Original list:\", my_list)\n",
    "print(\"Integer value from string:\", int_value)\n",
    "print(\"Boolean value from string:\", bool_value)\n"
   ]
  },
  {
   "cell_type": "code",
   "execution_count": 15,
   "metadata": {},
   "outputs": [
    {
     "name": "stdout",
     "output_type": "stream",
     "text": [
      "The number is positive.\n"
     ]
    }
   ],
   "source": [
    "# QUESTION 11: Write a program that checks if a number is positive, negative, or zero\n",
    "\n",
    "# ANSWER 11: \n",
    "num = float(input(\"Enter a number: \"))\n",
    "\n",
    "if num > 0:\n",
    "    print(\"The number is positive.\")\n",
    "elif num < 0:\n",
    "    print(\"The number is negative.\")\n",
    "else:\n",
    "    print(\"The number is zero.\")\n",
    "\n"
   ]
  },
  {
   "cell_type": "code",
   "execution_count": 17,
   "metadata": {},
   "outputs": [
    {
     "name": "stdout",
     "output_type": "stream",
     "text": [
      "1\n",
      "2\n",
      "3\n",
      "4\n",
      "5\n",
      "6\n",
      "7\n",
      "8\n",
      "9\n",
      "10\n"
     ]
    }
   ],
   "source": [
    "# QUESTION 12: Write a for loop to print numbers from 1 to 10\n",
    "\n",
    "# ANSWER 12: \n",
    "\n",
    "for i in range(1, 11):\n",
    "    print(i)\n"
   ]
  },
  {
   "cell_type": "code",
   "execution_count": 18,
   "metadata": {},
   "outputs": [
    {
     "name": "stdout",
     "output_type": "stream",
     "text": [
      "Sum of all even numbers between 1 and 50: 650\n"
     ]
    }
   ],
   "source": [
    "# QUESTION 13: Write a Python program to find the sum of all even numbers between 1 and 50\n",
    "\n",
    "# ANSWER 13: \n",
    "\n",
    "even_sum = 0\n",
    "for i in range(1, 51):\n",
    "    if i % 2 == 0:\n",
    "        even_sum += i\n",
    "print(\"Sum of all even numbers between 1 and 50:\", even_sum)\n"
   ]
  },
  {
   "cell_type": "code",
   "execution_count": 20,
   "metadata": {},
   "outputs": [
    {
     "name": "stdout",
     "output_type": "stream",
     "text": [
      "Reversed string: ynnus\n"
     ]
    }
   ],
   "source": [
    "# QUESTION 14: Write a program to reverse a string using a while loop\n",
    "\n",
    "# ANSWER 14: \n",
    "\n",
    "string = input(\"Enter a string: \")\n",
    "reversed_string = \"\"\n",
    "i = len(string) - 1\n",
    "\n",
    "while i >= 0:\n",
    "    reversed_string += string[i]\n",
    "    i -= 1\n",
    "\n",
    "print(\"Reversed string:\", reversed_string)\n",
    "\n"
   ]
  },
  {
   "cell_type": "code",
   "execution_count": 22,
   "metadata": {},
   "outputs": [
    {
     "name": "stdout",
     "output_type": "stream",
     "text": [
      "The factorial of 23 is 25852016738884976640000.\n"
     ]
    }
   ],
   "source": [
    "# QUESTION 15: Write a Python program to calculate the factorial of a number provided by the user using a while loop\n",
    "\n",
    "# ANSWER 15: \n",
    "\n",
    "num = int(input(\"Enter a number to find its factorial: \"))\n",
    "factorial = 1\n",
    "i = 1\n",
    "\n",
    "while i <= num:\n",
    "    factorial *= i\n",
    "    i += 1\n",
    "\n",
    "print(f\"The factorial of {num} is {factorial}.\")\n",
    "\n",
    "\n",
    "\n"
   ]
  },
  {
   "cell_type": "code",
   "execution_count": null,
   "metadata": {},
   "outputs": [],
   "source": []
  }
 ],
 "metadata": {
  "kernelspec": {
   "display_name": "Python 3",
   "language": "python",
   "name": "python3"
  },
  "language_info": {
   "codemirror_mode": {
    "name": "ipython",
    "version": 3
   },
   "file_extension": ".py",
   "mimetype": "text/x-python",
   "name": "python",
   "nbconvert_exporter": "python",
   "pygments_lexer": "ipython3",
   "version": "3.12.3"
  }
 },
 "nbformat": 4,
 "nbformat_minor": 2
}
